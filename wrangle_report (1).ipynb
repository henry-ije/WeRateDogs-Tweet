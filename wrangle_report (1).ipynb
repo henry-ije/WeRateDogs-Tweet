{
 "cells": [
  {
   "cell_type": "markdown",
   "id": "02746ee3",
   "metadata": {},
   "source": [
    "### Wrangle Report "
   ]
  },
  {
   "cell_type": "markdown",
   "id": "dab5dd63",
   "metadata": {},
   "source": [
    "This project involves analysing WeRateDogs which is present in the twitter archive. This data was presented to udacity for students to work on. The data sets are in three files. The first one is the twitter_archive which includes more than 5000+ retweets. The second one was gotten by using neursl network to predict if the images present are dogs and with what probability. The third data will be gotten by students where we will query twitter retweet count and favorite count using the twitter id present. The steps that were involved i this projects includes:\n",
    "\n",
    "- Gathering data\n",
    "- Accessing data\n",
    "- Cleaning data\n",
    "- storing data\n",
    "\n",
    "#### Gathering data\n",
    "Three data are used here which are \"twitter_archive_enhanced.csv\", \"image_predictions.tsv\" and \"tweet_json.txt\" which was read line by line into a dataframe.\n",
    "- The first one which is the twitter_archive was given to us and was only downloaded and uploaded into our dataframe.  \n",
    "- The \"image_predictions.tsv\" was downloaded programmatically using the request library.\n",
    "- The last data was queried using the twitter API and retweet_count and favorite count were extracted programmatically. A developer account was created to be able to access such informations. \n",
    "\n",
    "#### Assessing and cleaning data\n",
    "The three data sets were assessed for quality and tidiness issue. The were assessed using different python built in functions and methods. 8 quality and 2 tidiness issues were gotten and were cleaned. It is necessary to clean our data for easy analysing and visualisation\n",
    "\n",
    "#### Storing \n",
    "After pour data has been cleaned and ready for visualisation and insights. It was stored in master data for retrievalm when needed. "
   ]
  },
  {
   "cell_type": "code",
   "execution_count": null,
   "id": "0df63904",
   "metadata": {},
   "outputs": [],
   "source": []
  }
 ],
 "metadata": {
  "kernelspec": {
   "display_name": "Python 3 (ipykernel)",
   "language": "python",
   "name": "python3"
  },
  "language_info": {
   "codemirror_mode": {
    "name": "ipython",
    "version": 3
   },
   "file_extension": ".py",
   "mimetype": "text/x-python",
   "name": "python",
   "nbconvert_exporter": "python",
   "pygments_lexer": "ipython3",
   "version": "3.9.12"
  }
 },
 "nbformat": 4,
 "nbformat_minor": 5
}
